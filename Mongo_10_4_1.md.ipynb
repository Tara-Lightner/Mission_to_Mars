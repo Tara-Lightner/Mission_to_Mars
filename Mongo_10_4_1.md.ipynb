{
 "cells": [
  {
   "cell_type": "markdown",
   "id": "952ad4bf",
   "metadata": {},
   "source": [
    "## 10.4.1 Store the Data"
   ]
  },
  {
   "cell_type": "markdown",
   "id": "54652dc0",
   "metadata": {},
   "source": [
    "1.) To get started with Mongo, first open a new terminal window, but make sure your working environment is activated."
   ]
  },
  {
   "cell_type": "markdown",
   "id": "a83b5c61",
   "metadata": {},
   "source": [
    "2.) Then, to start an instance, type mongod into the first line of your terminal and press return or enter on your keyboard.\n",
    "\n",
    "We need to keep this tab open and active so that the Mongo instance continues to run. (Mongo does have a GUI, similar to pgAdmin for Postgres)"
   ]
  },
  {
   "cell_type": "markdown",
   "id": "df315028",
   "metadata": {},
   "source": [
    "3.) In our terminal, create a second window or tab to use for working in Mongo. Again, make sure your environment is active.\n",
    "\n",
    "On the first line of this new window, type \"mongo.\" This is done in a new window because, after you execute the command, you cannot use the terminal for other tasks—only to send information to and from the database.\n",
    "\n",
    "After executing the command, your terminal will show a right angle bracket and a blinking cursor. This indicates that the database is active and ready for use."
   ]
  },
  {
   "cell_type": "markdown",
   "id": "098600c2",
   "metadata": {},
   "source": [
    "*PRO TIP*\n",
    "STOP: Either process can be easily stopped and exited from by pressing Command + C or CTRL + C on your keyboard."
   ]
  },
  {
   "cell_type": "markdown",
   "id": "cbbb613f",
   "metadata": {},
   "source": [
    "Create a Database - type \"use NAMEdb\" and then press Enter."
   ]
  },
  {
   "cell_type": "markdown",
   "id": "9fbbfe0a",
   "metadata": {},
   "source": [
    "View the current active db your in type \"db\""
   ]
  },
  {
   "cell_type": "markdown",
   "id": "b5638392",
   "metadata": {},
   "source": [
    "View how many databases are stored locally by typing \"show dbs\" "
   ]
  },
  {
   "cell_type": "markdown",
   "id": "1492952a",
   "metadata": {},
   "source": [
    "Insert Data (or document)   <br>\n",
    "Syntax - db.collectionName.insertOne({key:value}) <br>\n",
    "Breakdown: \n",
    " - db refers to the active database, practicedb.\n",
    " - collectionName is the name of the new collection we're creating (we'll customize it when we practice).\n",
    " - .insertOne({ }) is how MongoDB knows we're inserting data into the collection.\n",
    " - key:value is the format into which we're inserting our data; its construction is very similar to a Python dictionary."
   ]
  },
  {
   "cell_type": "markdown",
   "id": "1f5d7ea2",
   "metadata": {},
   "source": [
    "Example: db.zoo.insertOne({name: 'Cleo', species: 'jaguar', age: 12, hobbies: ['sleeping', 'eating', 'climbing']})"
   ]
  },
  {
   "cell_type": "markdown",
   "id": "f1cb512a",
   "metadata": {},
   "source": [
    "See how many collections are in the database - type \"show collections\" "
   ]
  },
  {
   "cell_type": "markdown",
   "id": "9d1ee7a0",
   "metadata": {},
   "source": [
    "View what's inside a collection with the find() command. <br>\n",
    "Example: db.zoo.find()"
   ]
  },
  {
   "cell_type": "markdown",
   "id": "0d783984",
   "metadata": {},
   "source": [
    "Delete or Drop documents -syntax: db.collectionName.deleteOne({})"
   ]
  },
  {
   "cell_type": "markdown",
   "id": "836e10fc",
   "metadata": {},
   "source": [
    "Empty entire collection - db.NAME.remove ({}) <br>\n",
    "Example db.zoo.remove({})"
   ]
  },
  {
   "cell_type": "markdown",
   "id": "2a6e2213",
   "metadata": {},
   "source": [
    "Remove entire collection  db.NAME.drop() <br>\n",
    "db.zoo.drop()"
   ]
  },
  {
   "cell_type": "markdown",
   "id": "f9ae3ee6",
   "metadata": {},
   "source": [
    "Remove database db.dropDatabase()"
   ]
  },
  {
   "cell_type": "code",
   "execution_count": null,
   "id": "18b0ca70",
   "metadata": {},
   "outputs": [],
   "source": []
  }
 ],
 "metadata": {
  "kernelspec": {
   "display_name": "PythonData",
   "language": "python",
   "name": "pythondata"
  },
  "language_info": {
   "codemirror_mode": {
    "name": "ipython",
    "version": 3
   },
   "file_extension": ".py",
   "mimetype": "text/x-python",
   "name": "python",
   "nbconvert_exporter": "python",
   "pygments_lexer": "ipython3",
   "version": "3.7.11"
  }
 },
 "nbformat": 4,
 "nbformat_minor": 5
}
